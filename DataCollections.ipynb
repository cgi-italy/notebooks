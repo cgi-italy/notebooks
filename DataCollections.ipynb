{
 "cells": [
  {
   "cell_type": "markdown",
   "id": "337639a6-7155-4dde-a5a5-931be7f8ecbc",
   "metadata": {
    "tags": []
   },
   "source": [
    "# Insula API Data Collections\n",
    "\n",
    "## Overview\n",
    "\n",
    "This document serves as a quick reference guide of how to access Insula's APIs, using Python. This guide will show how to create a collection and upload data to it.\n",
    "\n",
    "\n",
    "***Steps***:\n",
    "1. Preparation\n",
    "2. Create a Collection\n",
    "3. Upload Data to a Collection"
   ]
  },
  {
   "cell_type": "markdown",
   "id": "7b3572a3-b54e-4ba0-baf7-2cc33c539680",
   "metadata": {},
   "source": [
    "## Preparation\n",
    "\n",
    "These preparation blocks have to be executed as a prerequisite for every subsequent step to work correctly as the imports will download every necessary package.\n",
    "Insula uses the OIDC authentication, so check that the endpoints are correct and be sure to put a valid `USERNAME/TOKEN` pair."
   ]
  },
  {
   "cell_type": "code",
   "execution_count": null,
   "id": "c8c51820-8d98-4cec-bd33-f06031141a97",
   "metadata": {
    "tags": []
   },
   "outputs": [],
   "source": [
    "import requests\n",
    "import base64\n",
    "import json\n",
    "import getpass"
   ]
  },
  {
   "cell_type": "code",
   "execution_count": null,
   "id": "40fcfa0c-d62a-49d3-8b4b-2a163bb6fe01",
   "metadata": {
    "tags": []
   },
   "outputs": [],
   "source": [
    "USERNAME=getpass.getpass()"
   ]
  },
  {
   "cell_type": "code",
   "execution_count": null,
   "id": "39cd5084-2e02-43dc-9337-823c04663bdd",
   "metadata": {
    "tags": []
   },
   "outputs": [],
   "source": [
    "PASSWORD=getpass.getpass()"
   ]
  },
  {
   "cell_type": "markdown",
   "id": "a63c4d31-4609-4f26-a026-458352776150",
   "metadata": {},
   "source": [
    "To authenticate wWith `InsulaWorkflowClient` one must configure every endpoint correctly and is more generic.\n",
    "The `InsulaOpenIDConnect` function will take care of providing or refreshing the token for the authentication every time `get_authorization_header()` is invoked.\n",
    "This snippet can be run again if for any reason the token is expired."
   ]
  },
  {
   "cell_type": "code",
   "execution_count": null,
   "id": "2503df33-24c6-462a-acd8-90a61ee9d4c8",
   "metadata": {
    "tags": []
   },
   "outputs": [],
   "source": [
    "from InsulaWorkflowClient import InsulaOpenIDConnect\n",
    "\n",
    "BASE_URL=\"https://biomass.pal.maap.eo.esa.int\"\n",
    "\n",
    "insulaAuth: InsulaOpenIDConnect = InsulaOpenIDConnect(\n",
    "        authorization_endpoint=\"https://identity.pal.maap.eo.esa.int/realms/biomass/protocol/openid-connect/auth\",\n",
    "        token_endpoint=\"https://identity.pal.maap.eo.esa.int/realms/biomass/protocol/openid-connect/token\",\n",
    "        redirect_uri=\"http://localhost:9207/auth\",\n",
    "        client_id=\"api-client\"\n",
    "    )\n",
    "insulaAuth.set_user_credentials(username=USERNAME, password=PASSWORD)\n",
    "\n",
    "bearer = insulaAuth.get_authorization_header()\n",
    "print(bearer)\n",
    "HEADERS={'Authorization': bearer }"
   ]
  },
  {
   "cell_type": "markdown",
   "id": "4102574e-4096-49d0-9505-6269d3f6ebed",
   "metadata": {
    "tags": []
   },
   "source": [
    "## Create a Collection\n",
    "\n",
    "For creating a new collection we need to pass a JSON object with its details along with the POST HTTP request.\n",
    "Inside `coll` you can see how the JSON object is made, feel free to modify its values.\n",
    "\n",
    "> Be mindful when running this one as if a collection with the same name is already present in the platform the command will fail with HTTP 409, so try with a different collection or delete the old one to test it a second time."
   ]
  },
  {
   "cell_type": "code",
   "execution_count": null,
   "id": "cd4c8549-57c0-49a2-b29b-b0aa4edaa554",
   "metadata": {
    "tags": []
   },
   "outputs": [],
   "source": [
    "coll={'name': \"JupyterDemoNewColl\", 'description': \"no\", 'fileType': \"REFERENCE_DATA\", 'productsType': \"no\"}\n",
    "\n",
    "url=BASE_URL + \"/secure/api/v2.0/collections/\"\n",
    "run_request=requests.post(url, headers=HEADERS, json=coll)\n",
    "run_request_dict = json.loads(run_request.text)\n",
    "\n",
    "if run_request.status_code>=400: print(str(run_request.status_code)+\" ERROR: Could not create Collection\")\n",
    "else: print(str(run_request.status_code) +\" Collection successfully created\")"
   ]
  },
  {
   "cell_type": "code",
   "execution_count": null,
   "id": "e7ad568b-02a6-4aad-88c0-0240be68c78f",
   "metadata": {
    "tags": []
   },
   "outputs": [],
   "source": [
    "run_request_dict"
   ]
  },
  {
   "cell_type": "markdown",
   "id": "2bfcc87b-e27e-409a-92da-81dfc187627d",
   "metadata": {
    "tags": []
   },
   "source": [
    "## Upload Data to a Collection\n",
    "\n",
    "For this step a file (`filename`) is created form scratch and uploaded, feel free to modify it with an already existing one and if you do remove the `truncate()` line.\n",
    "\n",
    "The object (`uploads`) has to be created with the structure below and passed under the `files` field of the http request to work correctly.\n",
    "\n",
    "We're using the `refData` API to upload also specifying the collection and the file type."
   ]
  },
  {
   "cell_type": "code",
   "execution_count": null,
   "id": "b6020392-cf3d-4f7f-851a-9542d61e7e83",
   "metadata": {},
   "outputs": [],
   "source": [
    "file_type='OTHER'\n",
    "collection_identifier=\"biomass4ac20d9a375f4200b4b982d7bcc96a90\" #JupyterDemo collection\n",
    "filename=\"uploadTestFile.tif\"\n",
    "metadata={} #put optional metadata fields here\n",
    "\n",
    "with open(filename, \"w+b\") as upload:\n",
    "    upload.truncate(1024) #just to produce a 1kb file\n",
    "    uploads={\n",
    "        'file':(filename, upload, 'image/tif'),\n",
    "        'userProperties': (None, json.dumps(metadata), 'application/json')\n",
    "    }\n",
    "    \n",
    "    url=BASE_URL + f\"/secure/api/v2.0/platformFiles/refData?fileType={file_type}&collection={collection_identifier}\"\n",
    "    run_request=requests.post(url, headers=HEADERS, files=uploads)\n",
    "    run_request_dict = json.loads(run_request.text)"
   ]
  },
  {
   "cell_type": "code",
   "execution_count": null,
   "id": "95816eb5-f4b9-4ad0-976f-e34a6c628124",
   "metadata": {
    "tags": []
   },
   "outputs": [],
   "source": [
    "run_request_dict"
   ]
  }
 ],
 "metadata": {
  "kernelspec": {
   "display_name": "Python 3 (ipykernel)",
   "language": "python",
   "name": "python3"
  },
  "language_info": {
   "codemirror_mode": {
    "name": "ipython",
    "version": 3
   },
   "file_extension": ".py",
   "mimetype": "text/x-python",
   "name": "python",
   "nbconvert_exporter": "python",
   "pygments_lexer": "ipython3",
   "version": "3.11.6"
  }
 },
 "nbformat": 4,
 "nbformat_minor": 5
}
