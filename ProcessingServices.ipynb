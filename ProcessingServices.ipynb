{
 "cells": [
  {
   "cell_type": "markdown",
   "id": "337639a6-7155-4dde-a5a5-931be7f8ecbc",
   "metadata": {
    "tags": []
   },
   "source": [
    "# Insula API Processing Services\n",
    "\n",
    "## Overview\n",
    "\n",
    "This document serves as a quick reference guide of how to access Insula's APIs, using Python. This guide will show how to discover, launch and monitor processing services.\n",
    "\n",
    "\n",
    "***Steps***:\n",
    "1. Preparation\n",
    "2. Discover a Processing Service\n",
    "3. Launch a Processing Service"
   ]
  },
  {
   "cell_type": "markdown",
   "id": "7b3572a3-b54e-4ba0-baf7-2cc33c539680",
   "metadata": {},
   "source": [
    "## Preparation\n",
    "\n",
    "These preparation blocks have to be executed as a prerequisite for every subsequent step to work correctly as the imports will download every necessary package.\n",
    "Insula uses the OIDC authentication, so check that the endpoints are correct and be sure to put a valid `USERNAME/TOKEN` pair."
   ]
  },
  {
   "cell_type": "code",
   "execution_count": null,
   "id": "c8c51820-8d98-4cec-bd33-f06031141a97",
   "metadata": {
    "tags": []
   },
   "outputs": [],
   "source": [
    "import requests\n",
    "import base64\n",
    "import json\n",
    "import getpass"
   ]
  },
  {
   "cell_type": "code",
   "execution_count": null,
   "id": "40fcfa0c-d62a-49d3-8b4b-2a163bb6fe01",
   "metadata": {
    "tags": []
   },
   "outputs": [],
   "source": [
    "USERNAME='service_developer'"
   ]
  },
  {
   "cell_type": "code",
   "execution_count": null,
   "id": "39cd5084-2e02-43dc-9337-823c04663bdd",
   "metadata": {
    "tags": []
   },
   "outputs": [],
   "source": [
    "PASSWORD=getpass.getpass()"
   ]
  },
  {
   "cell_type": "markdown",
   "id": "65d3a82d-a014-463e-8c32-be98c30bee2b",
   "metadata": {},
   "source": [
    "To authenticate correctly wWith `InsulaWorkflowClient` one must configure every endpoint correctly and is more generic.\n",
    "The `InsulaOpenIDConnect` function will take care of providing or refreshing the token for the authentication every time `get_authorization_header()` is invoked.\n",
    "This snippet can be run again if for any reason the token is expired."
   ]
  },
  {
   "cell_type": "code",
   "execution_count": null,
   "id": "2503df33-24c6-462a-acd8-90a61ee9d4c8",
   "metadata": {
    "tags": []
   },
   "outputs": [],
   "source": [
    "from InsulaWorkflowClient import InsulaOpenIDConnect\n",
    "\n",
    "BASE_URL=\"https://biomass.pal.maap.eo.esa.int\"\n",
    "\n",
    "insulaAuth: InsulaOpenIDConnect = InsulaOpenIDConnect(\n",
    "        authorization_endpoint=\"https://identity.pal.maap.eo.esa.int/realms/biomass/protocol/openid-connect/auth\",\n",
    "        token_endpoint=\"https://identity.pal.maap.eo.esa.int/realms/biomass/protocol/openid-connect/token\",\n",
    "        redirect_uri=\"http://localhost:9207/auth\",\n",
    "        client_id=\"api-client\"\n",
    "    )\n",
    "insulaAuth.set_user_credentials(username=USERNAME, password=PASSWORD)\n",
    "\n",
    "bearer = insulaAuth.get_authorization_header()\n",
    "print(bearer)\n",
    "HEADERS={'Authorization': bearer }"
   ]
  },
  {
   "cell_type": "markdown",
   "id": "2d26aafb-519a-4bd5-86f8-cbe2ea098b64",
   "metadata": {
    "tags": []
   },
   "source": [
    "## Discover a Processing Service\n",
    "\n",
    "This step is a straightforward one. By polling the `services` API we get a list of available services which can be used to execute a Processor in the next step."
   ]
  },
  {
   "cell_type": "code",
   "execution_count": null,
   "id": "65913726-359d-4b97-98a8-0761c60f371d",
   "metadata": {},
   "outputs": [],
   "source": [
    "url=BASE_URL + \"/secure/api/v2.0/services\"\n",
    "run_request=requests.get(url,headers=HEADERS)\n",
    "run_request_dict = json.loads(run_request.text)"
   ]
  },
  {
   "cell_type": "code",
   "execution_count": null,
   "id": "1107d371-6939-4002-89cb-aff87fd42d5e",
   "metadata": {
    "tags": []
   },
   "outputs": [],
   "source": [
    "run_request_dict"
   ]
  },
  {
   "cell_type": "markdown",
   "id": "1ad05ccb-4fa6-40fc-bd3c-306d447b280e",
   "metadata": {
    "tags": []
   },
   "source": [
    "## Launch a Processing Service\n",
    "\n",
    "### Create a Configuration\n",
    "\n",
    "A Job Configuration is a config file that defines what the job should do. This request creates a new job config which is needed for the following section\n",
    "\n",
    "The crucial aspects of a job config are:\n",
    "- ***service***: the `service_id` instructs the job about which service is to be run\n",
    "- ***inputs***: on which images/files said service is to be executed\n",
    "- ***collection***: usually for many services this represents the output collection in which the results will be found\n",
    "\n",
    "The processor must already be present, if it's not please follow the instructions inside `SimpleDemoProcessor` to create one that will work with the following snippet.\n",
    "Be aware as these parameters must match with the ones that the service expects so this script will require some modification to work with a different processor."
   ]
  },
  {
   "cell_type": "code",
   "execution_count": null,
   "id": "24680a22-644e-400f-86dc-162a086b731b",
   "metadata": {},
   "outputs": [],
   "source": [
    "service_id=11 #JupyterSimpleDemoProcessor\n",
    "collection_id=\"biomass3d15d7dd4d2c4ab9b581d002671d309b\" #JupyterDemoOutput collection\n",
    "s2=\"Insula is \"\n",
    "s3=\"very good!\"\n",
    "\n",
    "output={'result':collection_id}\n",
    "job_config={\n",
    "    'service': f\"{BASE_URL}secure/api/v2.0/services/{service_id}\",\n",
    "    'inputs':{                                         #inputs must match the fields required by the service\n",
    "        's2_input': [s2],\n",
    "        's3_input': [s3],\n",
    "        'collection': [json.dumps(output)]\n",
    "    },\n",
    "    'parent': None\n",
    "}\n",
    "\n",
    "url=BASE_URL+\"/secure/api/v2.0/jobConfigs/\"\n",
    "run_request=requests.post(url,headers=HEADERS, data=json.dumps(job_config))\n",
    "run_request_dict = json.loads(run_request.text)"
   ]
  },
  {
   "cell_type": "code",
   "execution_count": null,
   "id": "3fd76f11-e9a2-4c42-9321-7c6765bd65d6",
   "metadata": {
    "tags": []
   },
   "outputs": [],
   "source": [
    "run_request_dict"
   ]
  },
  {
   "cell_type": "markdown",
   "id": "31d46504-45ca-4ec1-bc42-be35fab77c71",
   "metadata": {},
   "source": [
    "### Launch Processor\n",
    "We can start a processor by getting the `job_config_id` from the previous response and launch it through the request you see in the following section:"
   ]
  },
  {
   "cell_type": "code",
   "execution_count": null,
   "id": "ac69aba7-325d-431b-9827-0b7fe9876b37",
   "metadata": {
    "tags": []
   },
   "outputs": [],
   "source": [
    "jobconfig_id=run_request_dict['id']\n",
    "url=f\"{BASE_URL}/secure/api/v2.0/jobConfigs/{jobconfig_id}/launch\"\n",
    "run_request = requests.post(url, headers=HEADERS)\n",
    "run_request_dict = json.loads(run_request.text)"
   ]
  },
  {
   "cell_type": "code",
   "execution_count": null,
   "id": "0efd0fdd-ebff-4e37-9799-30247c18a4eb",
   "metadata": {
    "tags": []
   },
   "outputs": [],
   "source": [
    "run_request_dict"
   ]
  },
  {
   "cell_type": "markdown",
   "id": "027903bb-9355-40a7-9868-f0a2c998a178",
   "metadata": {},
   "source": [
    "### Check Progress\n",
    "To receive updates on the advancement of the job, we're simply getting the `job_id` from the previous response, and asking the paltform about it.\n",
    "\n",
    "Feel free to run this section a couple of times to see the status changes until the job is completed."
   ]
  },
  {
   "cell_type": "code",
   "execution_count": null,
   "id": "4f6c217b-b6eb-4d61-ad2c-cd5fc348bdd9",
   "metadata": {},
   "outputs": [],
   "source": [
    "job_id=run_request_dict['id']\n",
    "url_status = f\"{BASE_URL}/secure/api/v2.0/jobs/{job_id}\"\n",
    "status = requests.get(url_status, headers=HEADERS)\n",
    "url_status_dict = json.loads(status.text)"
   ]
  },
  {
   "cell_type": "code",
   "execution_count": null,
   "id": "c9be7525-f8e9-4d1f-b5af-49880f98868d",
   "metadata": {},
   "outputs": [],
   "source": [
    "url_status_dict"
   ]
  }
 ],
 "metadata": {
  "kernelspec": {
   "display_name": "Python 3 (ipykernel)",
   "language": "python",
   "name": "python3"
  },
  "language_info": {
   "codemirror_mode": {
    "name": "ipython",
    "version": 3
   },
   "file_extension": ".py",
   "mimetype": "text/x-python",
   "name": "python",
   "nbconvert_exporter": "python",
   "pygments_lexer": "ipython3",
   "version": "3.11.6"
  }
 },
 "nbformat": 4,
 "nbformat_minor": 5
}
