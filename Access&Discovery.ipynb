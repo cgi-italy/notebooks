{
 "cells": [
  {
   "cell_type": "markdown",
   "id": "337639a6-7155-4dde-a5a5-931be7f8ecbc",
   "metadata": {
    "tags": []
   },
   "source": [
    "# Insula API Data Access & Discovery\n",
    "\n",
    "## Overview\n",
    "\n",
    "This document serves as a quick guide of how to access Insula's API for various tasks in Python. This guide will show how to discover, filter and download data.\n",
    "\n",
    "***Steps***:\n",
    "1. Preparation\n",
    "2. Catalog Search\n",
    "3. Product Search and Download"
   ]
  },
  {
   "cell_type": "markdown",
   "id": "7b3572a3-b54e-4ba0-baf7-2cc33c539680",
   "metadata": {},
   "source": [
    "## Preparation\n",
    "\n",
    "These preparation blocks have to be executed as a prerequisite for every subsequent step to work correctly as the imports will download every necessary package.\n",
    "Insula uses the OIDC authentication, so check that the endpoints are correct and be sure to put a valid `USERNAME/TOKEN` pair."
   ]
  },
  {
   "cell_type": "code",
   "execution_count": null,
   "id": "c8c51820-8d98-4cec-bd33-f06031141a97",
   "metadata": {
    "tags": []
   },
   "outputs": [],
   "source": [
    "import requests\n",
    "import base64\n",
    "import json\n",
    "import getpass\n",
    "import os"
   ]
  },
  {
   "cell_type": "code",
   "execution_count": null,
   "id": "40fcfa0c-d62a-49d3-8b4b-2a163bb6fe01",
   "metadata": {
    "tags": []
   },
   "outputs": [],
   "source": [
    "USERNAME=getpass.getpass()"
   ]
  },
  {
   "cell_type": "code",
   "execution_count": null,
   "id": "39cd5084-2e02-43dc-9337-823c04663bdd",
   "metadata": {
    "tags": []
   },
   "outputs": [],
   "source": [
    "PASSWORD=getpass.getpass()"
   ]
  },
  {
   "cell_type": "markdown",
   "id": "9b036495-2cc9-40d2-bd25-aad51221166c",
   "metadata": {},
   "source": [
    "To authenticate correctly with `InsulaWorkflowClient` one must configure every endpoint correctly and is more generic.\n",
    "The `InsulaOpenIDConnect` function will take care of providing or refreshing the token for the authentication every time `get_authorization_header()` is invoked.\n",
    "This snippet can be run again if for any reason the token is expired."
   ]
  },
  {
   "cell_type": "code",
   "execution_count": null,
   "id": "2503df33-24c6-462a-acd8-90a61ee9d4c8",
   "metadata": {
    "tags": []
   },
   "outputs": [],
   "source": [
    "from InsulaWorkflowClient import InsulaOpenIDConnect\n",
    "\n",
    "BASE_URL=\"https://biomass.pal.maap.eo.esa.int\"\n",
    "\n",
    "insulaAuth: InsulaOpenIDConnect = InsulaOpenIDConnect(\n",
    "        authorization_endpoint=\"https://identity.pal.maap.eo.esa.int/realms/biomass/protocol/openid-connect/auth\",\n",
    "        token_endpoint=\"https://identity.pal.maap.eo.esa.int/realms/biomass/protocol/openid-connect/token\",\n",
    "        redirect_uri=\"http://localhost:9207/auth\",\n",
    "        client_id=\"api-client\"\n",
    "    )\n",
    "insulaAuth.set_user_credentials(username=USERNAME, password=PASSWORD)\n",
    "\n",
    "bearer = insulaAuth.get_authorization_header()\n",
    "print(bearer)\n",
    "HEADERS={'Authorization': bearer }"
   ]
  },
  {
   "cell_type": "markdown",
   "id": "5b749532-ef81-4b6c-bd44-cd761d567a1b",
   "metadata": {
    "tags": []
   },
   "source": [
    "## Catalog Search\n",
    "Many of the sequent API usage share a similarity for what concerns the search. For example the page and the number of results to display are used in many other API calls. In this catalog search many other filters could be applied: catalog, mission, AOI, TOI, orbit number, etc."
   ]
  },
  {
   "cell_type": "code",
   "execution_count": null,
   "id": "a4a0f062-f29b-4def-9f90-4e503569d282",
   "metadata": {},
   "outputs": [],
   "source": [
    "page=0\n",
    "resultsPerPage=20\n",
    "catalogue='SATELLITE'\n",
    "orbitDirection='ascending'\n",
    "mission='sentinel3'\n",
    "aoi='POLYGON+((110.12588478529223+-6.885079244763438,+110.12588478529223+-7.29186930980306,+111.05481310696132+-7.29186930980306,+111.06289082671104+-6.472900901082527,+111.02519514358733+-6.402857492192213,+110.86094988721777+-6.394775588065212,+110.67247167702403+-6.451349019721208,+110.62131326460076+-6.664173077411836,+110.48130096205539+-6.739604353875493,+110.52976676699129+-6.7854019476178165,+110.41667982033255+-6.920100897825102,+110.29282275186166+-6.8958548771431385,+110.17973575384669+-6.804259792425478,+110.1204997757424+-6.882385002675806,+110.12588478529223+-6.885079244763438))'\n",
    "start_time='2021-04-01T00:00:00.000Z'\n",
    "end_time='2021-09-30T23:59:59.000Z'\n",
    "s3ProcessingLevel='2'\n",
    "s3Instrument='SLSTR'\n",
    "productType='SL_2_LST___'\n",
    "\n",
    "url=f'{BASE_URL}/secure/api/v2.0/search?page={page}&resultsPerPage={resultsPerPage}&catalogue={catalogue}&mission={mission}&aoi={aoi}&productDateStart={start_time}&productDateEnd={end_time}&s3ProcessingLevel={s3ProcessingLevel}&orbitDirection={orbitDirection}&s3Instrument={s3Instrument}&productType={productType}'\n",
    "run_request=requests.get(url,headers=HEADERS)\n",
    "run_request_dict = json.loads(run_request.text)"
   ]
  },
  {
   "cell_type": "code",
   "execution_count": null,
   "id": "1e48132b-10d0-41c5-aa34-e0fa03f5be27",
   "metadata": {
    "tags": []
   },
   "outputs": [],
   "source": [
    "run_request_dict"
   ]
  },
  {
   "cell_type": "markdown",
   "id": "389325f2-69ee-409d-b91d-b00b612bf219",
   "metadata": {
    "tags": []
   },
   "source": [
    "## Product Search and Download"
   ]
  },
  {
   "cell_type": "markdown",
   "id": "251f9192-3b40-484c-adf1-d673c93e0607",
   "metadata": {
    "tags": []
   },
   "source": [
    "### Get Collections Info\n",
    "\n",
    "This command could be run to find the available collections inside the platform and should be pretty straightforward."
   ]
  },
  {
   "cell_type": "code",
   "execution_count": null,
   "id": "1dfbde32-9b51-40e1-a493-0e44c235f921",
   "metadata": {
    "tags": []
   },
   "outputs": [],
   "source": [
    "url=BASE_URL+\"/secure/api/v2.0/collections\"\n",
    "run_request=requests.get(url,headers=HEADERS)\n",
    "\n",
    "run_request_dict = json.loads(run_request.text)"
   ]
  },
  {
   "cell_type": "code",
   "execution_count": null,
   "id": "ca34e4b7-dc75-4aef-b683-c290162af423",
   "metadata": {
    "tags": []
   },
   "outputs": [],
   "source": [
    "run_request_dict"
   ]
  },
  {
   "cell_type": "markdown",
   "id": "529dce1d-4a05-4a21-9078-cfe62f4e723d",
   "metadata": {
    "tags": []
   },
   "source": [
    "### Get File Info from Collection\n",
    "\n",
    "This request returns us a list of files inside a particular collection. We can get a valid `collection_id` with the help of the previous block or put a known one."
   ]
  },
  {
   "cell_type": "code",
   "execution_count": null,
   "id": "da617a39-d6d9-4cec-894d-27bd748f27d0",
   "metadata": {
    "tags": []
   },
   "outputs": [],
   "source": [
    "collection_id=8\n",
    "my_collection=f'{BASE_URL}/secure/api/v2.0/collections/{collection_id}'\n",
    "url=f\"{BASE_URL}/secure/api/v2.0/platformFiles/search/parametricFind?sort=filename&collection={my_collection}\"\n",
    "run_request=requests.get(url,headers=HEADERS)\n",
    "run_request_dict = json.loads(run_request.text)"
   ]
  },
  {
   "cell_type": "code",
   "execution_count": null,
   "id": "b54b1c73-245d-4d2c-9ddc-699a236cbdd8",
   "metadata": {
    "tags": []
   },
   "outputs": [],
   "source": [
    "run_request_dict"
   ]
  },
  {
   "cell_type": "markdown",
   "id": "76f3a473-ffaf-4dd9-b1b7-65fbebff79b2",
   "metadata": {
    "tags": []
   },
   "source": [
    "### Download file"
   ]
  },
  {
   "cell_type": "markdown",
   "id": "1cd85324-9990-467e-a1fe-3b9734872a93",
   "metadata": {},
   "source": [
    "We're getting a valid `file_id` from the request done in the last section. A custom one can be placed here if needed"
   ]
  },
  {
   "cell_type": "code",
   "execution_count": null,
   "id": "2e15b333-9b04-4662-939f-4ea81c5e5709",
   "metadata": {
    "tags": []
   },
   "outputs": [],
   "source": [
    "file_id=run_request_dict['_embedded']['platformFiles'][0]['id']\n",
    "filename=run_request_dict['_embedded']['platformFiles'][0]['filename']\n",
    "print(f\"file_id: {file_id}\")"
   ]
  },
  {
   "cell_type": "markdown",
   "id": "b1b57815-eb16-4fe3-89ab-6fe5b792c5e1",
   "metadata": {},
   "source": [
    "In this section the file download is done through the help of a function to which we have to provide the following parameters:\n",
    "- `url`: the path to a specific file inside the platform, this contains the `file_id`.\n",
    "- `local_filename`: the name of the downloaded file\n",
    "- `customHeader`: through this we can pass the `HEADERS` containing our auth, as the request is done inside the function."
   ]
  },
  {
   "cell_type": "code",
   "execution_count": null,
   "id": "30c3102d-7b82-4afa-bc55-f4bd058f5c81",
   "metadata": {
    "tags": []
   },
   "outputs": [],
   "source": [
    "def download_file(url, local_filename, customHeader, checkCert=True):\n",
    "    print(f'{url} started')\n",
    "    with requests.get(url,headers=customHeader, stream=True, verify=checkCert ) as r:\n",
    "        r.raise_for_status()\n",
    "        with open(local_filename, 'wb') as f:\n",
    "            for chunk in r.iter_content(chunk_size=8192):  \n",
    "                f.write(chunk)\n",
    "\n",
    "    print(f'download {url} done')\n",
    "    return local_filename"
   ]
  },
  {
   "cell_type": "code",
   "execution_count": null,
   "id": "16fe6d51-feee-4a93-92df-cbe65553e000",
   "metadata": {
    "tags": []
   },
   "outputs": [],
   "source": [
    "file_to_download = BASE_URL + \"/secure/api/v2.0/platformFiles/\" + str(file_id)+\"/dl\"\n",
    "download_file(file_to_download, os.path.basename(filename), HEADERS)"
   ]
  }
 ],
 "metadata": {
  "kernelspec": {
   "display_name": "Python 3 (ipykernel)",
   "language": "python",
   "name": "python3"
  },
  "language_info": {
   "codemirror_mode": {
    "name": "ipython",
    "version": 3
   },
   "file_extension": ".py",
   "mimetype": "text/x-python",
   "name": "python",
   "nbconvert_exporter": "python",
   "pygments_lexer": "ipython3",
   "version": "3.11.6"
  }
 },
 "nbformat": 4,
 "nbformat_minor": 5
}
