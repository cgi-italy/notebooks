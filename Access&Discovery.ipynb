{
 "cells": [
  {
   "cell_type": "markdown",
   "id": "337639a6-7155-4dde-a5a5-931be7f8ecbc",
   "metadata": {
    "tags": []
   },
   "source": [
    "# Insula API Data Access & Discovery\n",
    "\n",
    "## Overview\n",
    "\n",
    "This document serves as a quick guide of how to access Insula's API for various tasks in Python. This guide will show how to discover, filter and download data.\n",
    "\n",
    "***Steps***:\n",
    "1. Preparation\n",
    "2. Catalog Search\n",
    "3. Product Search and Download"
   ]
  },
  {
   "cell_type": "markdown",
   "id": "7b3572a3-b54e-4ba0-baf7-2cc33c539680",
   "metadata": {},
   "source": [
    "## Preparation\n",
    "\n",
    "These preparation blocks have to be executed as a prerequisite for every subsequent step to work correctly, as these variables will be used to configure each http request.\n",
    "Be sure to put a valid `USERNAME/TOKEN` pair, and check that the domain inside `BASE_URL` is still valid."
   ]
  },
  {
   "cell_type": "code",
   "execution_count": null,
   "id": "c8c51820-8d98-4cec-bd33-f06031141a97",
   "metadata": {
    "tags": []
   },
   "outputs": [],
   "source": [
    "import requests\n",
    "import base64\n",
    "import json\n",
    "import getpass"
   ]
  },
  {
   "cell_type": "code",
   "execution_count": null,
   "id": "40fcfa0c-d62a-49d3-8b4b-2a163bb6fe01",
   "metadata": {
    "tags": []
   },
   "outputs": [],
   "source": [
    "USERNAME=getpass.getpass()"
   ]
  },
  {
   "cell_type": "code",
   "execution_count": null,
   "id": "39cd5084-2e02-43dc-9337-823c04663bdd",
   "metadata": {
    "tags": []
   },
   "outputs": [],
   "source": [
    "PASSWORD=getpass.getpass()"
   ]
  },
  {
   "cell_type": "code",
   "execution_count": null,
   "id": "2503df33-24c6-462a-acd8-90a61ee9d4c8",
   "metadata": {
    "tags": []
   },
   "outputs": [],
   "source": [
    "from InsulaWorkflowClient import InsulaOpenIDConnect\n",
    "\n",
    "BASE_URL=\"https://insula.earth\"\n",
    "\n",
    "insulaAuth: InsulaOpenIDConnect = InsulaOpenIDConnect(\n",
    "        authorization_endpoint=\"https://identity.ope.insula.earth/realms/eopaas/protocol/openid-connect/auth\",\n",
    "        token_endpoint=\"https://identity.ope.insula.earth/realms/eopaas/protocol/openid-connect/token\",\n",
    "        redirect_uri=\"http://localhost:9207/auth\",\n",
    "        client_id=\"api-client\"\n",
    "    )\n",
    "insulaAuth.set_user_credentials(username=USERNAME, password=PASSWORD)\n",
    "\n",
    "bearer = insulaAuth.get_authorization_header()\n",
    "print(bearer)\n",
    "HEADERS={'Authorization': bearer }"
   ]
  },
  {
   "cell_type": "markdown",
   "id": "389325f2-69ee-409d-b91d-b00b612bf219",
   "metadata": {
    "tags": []
   },
   "source": [
    "## Product Search and Download"
   ]
  },
  {
   "cell_type": "markdown",
   "id": "251f9192-3b40-484c-adf1-d673c93e0607",
   "metadata": {
    "tags": []
   },
   "source": [
    "### Get Collections Info\n",
    "\n",
    "This command could be run to find the available collections inside the platform and should be pretty straightforward."
   ]
  },
  {
   "cell_type": "code",
   "execution_count": null,
   "id": "1dfbde32-9b51-40e1-a493-0e44c235f921",
   "metadata": {
    "tags": []
   },
   "outputs": [],
   "source": [
    "url=BASE_URL+\"/secure/api/v2.0/collections?size=20\"\n",
    "run_request=requests.get(url,headers=HEADERS, verify=True)\n",
    "\n",
    "run_request_dict = json.loads(run_request.text)"
   ]
  },
  {
   "cell_type": "code",
   "execution_count": null,
   "id": "ca34e4b7-dc75-4aef-b683-c290162af423",
   "metadata": {
    "tags": []
   },
   "outputs": [],
   "source": [
    "run_request_dict"
   ]
  },
  {
   "cell_type": "markdown",
   "id": "529dce1d-4a05-4a21-9078-cfe62f4e723d",
   "metadata": {
    "tags": []
   },
   "source": [
    "### Get File Info from Collection\n",
    "\n",
    "This request returns us a list of files inside a particular collection. We can get a valid `collection_id` with the help of the previous block or put a known one."
   ]
  },
  {
   "cell_type": "code",
   "execution_count": null,
   "id": "da617a39-d6d9-4cec-894d-27bd748f27d0",
   "metadata": {
    "tags": []
   },
   "outputs": [],
   "source": [
    "collection_id=52\n",
    "my_collection=f'{BASE_URL}/secure/api/v2.0/collections/{collection_id}'\n",
    "url=f\"{BASE_URL}/secure/api/v2.0/platformFiles/search/parametricFind?sort=filename&type=OUTPUT_PRODUCT&collection={my_collection}\"\n",
    "run_request=requests.get(url,headers=HEADERS, verify=True)\n",
    "run_request_dict = json.loads(run_request.text)"
   ]
  },
  {
   "cell_type": "code",
   "execution_count": null,
   "id": "b54b1c73-245d-4d2c-9ddc-699a236cbdd8",
   "metadata": {
    "tags": []
   },
   "outputs": [],
   "source": [
    "run_request_dict"
   ]
  },
  {
   "cell_type": "markdown",
   "id": "76f3a473-ffaf-4dd9-b1b7-65fbebff79b2",
   "metadata": {
    "tags": []
   },
   "source": [
    "### Download file"
   ]
  },
  {
   "cell_type": "markdown",
   "id": "1cd85324-9990-467e-a1fe-3b9734872a93",
   "metadata": {},
   "source": [
    "We're getting a valid `file_id` from the request done in the last section. A custom one can be placed here if needed"
   ]
  },
  {
   "cell_type": "code",
   "execution_count": null,
   "id": "2e15b333-9b04-4662-939f-4ea81c5e5709",
   "metadata": {
    "tags": []
   },
   "outputs": [],
   "source": [
    "file_id=run_request_dict['_embedded']['platformFiles'][0]['id']\n",
    "print(f\"file_id: {file_id}\")"
   ]
  },
  {
   "cell_type": "markdown",
   "id": "b1b57815-eb16-4fe3-89ab-6fe5b792c5e1",
   "metadata": {},
   "source": [
    "In this section the file download is done through the help of a function to which we have to provide the following parameters:\n",
    "- `url`: the path to a specific file inside the platform, this contains the `file_id`.\n",
    "- `local_filename`: the name of the downloaded file\n",
    "- `customHeader`: through this we can pass the `HEADERS` containing our auth, as the request is done inside the function."
   ]
  },
  {
   "cell_type": "code",
   "execution_count": null,
   "id": "30c3102d-7b82-4afa-bc55-f4bd058f5c81",
   "metadata": {
    "tags": []
   },
   "outputs": [],
   "source": [
    "def download_file(url, local_filename, customHeader, checkCert=True):\n",
    "    print(f'{url} started')\n",
    "    with requests.get(url,headers=customHeader, stream=True, verify=checkCert ) as r:\n",
    "        r.raise_for_status()\n",
    "        with open(local_filename, 'wb') as f:\n",
    "            for chunk in r.iter_content(chunk_size=8192):  \n",
    "                f.write(chunk)\n",
    "\n",
    "    print(f'download {url} done')\n",
    "    return local_filename"
   ]
  },
  {
   "cell_type": "code",
   "execution_count": null,
   "id": "16fe6d51-feee-4a93-92df-cbe65553e000",
   "metadata": {
    "tags": []
   },
   "outputs": [],
   "source": [
    "file_to_download = BASE_URL + \"/secure/api/v2.0/platformFiles/\" + str(file_id)+\"/dl\"\n",
    "download_file(file_to_download,'downloadTestFile.tif',HEADERS)"
   ]
  }
 ],
 "metadata": {
  "kernelspec": {
   "display_name": "Python 3 (ipykernel)",
   "language": "python",
   "name": "python3"
  },
  "language_info": {
   "codemirror_mode": {
    "name": "ipython",
    "version": 3
   },
   "file_extension": ".py",
   "mimetype": "text/x-python",
   "name": "python",
   "nbconvert_exporter": "python",
   "pygments_lexer": "ipython3",
   "version": "3.10.9"
  }
 },
 "nbformat": 4,
 "nbformat_minor": 5
}
