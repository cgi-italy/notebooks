{
 "cells": [
  {
   "cell_type": "markdown",
   "id": "337639a6-7155-4dde-a5a5-931be7f8ecbc",
   "metadata": {
    "tags": []
   },
   "source": [
    "# Insula API Data Access & Discovery\n",
    "\n",
    "## Overview\n",
    "\n",
    "This document serves as a quick guide of how to access Insula's API for various tasks in Python. This guide will show how to discover, filter and download data.\n",
    "\n",
    "***Steps***:\n",
    "1. Preparation\n",
    "2. Catalog Search\n",
    "3. Download API\n",
    "4. WFS\n",
    "5. WMS"
   ]
  },
  {
   "cell_type": "markdown",
   "id": "7b3572a3-b54e-4ba0-baf7-2cc33c539680",
   "metadata": {},
   "source": [
    "## Preparation\n",
    "\n",
    "These preparation blocks have to be executed as a prerequisite for every subsequent step to work correctly, as these variables will be used to configure each http request.\n",
    "Be sure to put a valid `USERNAME/TOKEN` pair, and check that the domain inside `BASE_URL` is still valid."
   ]
  },
  {
   "cell_type": "code",
   "execution_count": null,
   "id": "4812326d-c639-4300-a4ae-36dc8296bc08",
   "metadata": {},
   "outputs": [],
   "source": [
    "pip install InsulaWorkflowClient geopandas matplotlib rasterio mapclassify folium furl"
   ]
  },
  {
   "cell_type": "code",
   "execution_count": null,
   "id": "c8c51820-8d98-4cec-bd33-f06031141a97",
   "metadata": {
    "tags": []
   },
   "outputs": [],
   "source": [
    "import requests\n",
    "import base64\n",
    "import json\n",
    "import getpass"
   ]
  },
  {
   "cell_type": "code",
   "execution_count": null,
   "id": "40fcfa0c-d62a-49d3-8b4b-2a163bb6fe01",
   "metadata": {
    "tags": []
   },
   "outputs": [],
   "source": [
    "USERNAME=getpass.getpass()"
   ]
  },
  {
   "cell_type": "code",
   "execution_count": null,
   "id": "39cd5084-2e02-43dc-9337-823c04663bdd",
   "metadata": {
    "tags": []
   },
   "outputs": [],
   "source": [
    "PASSWORD=getpass.getpass()"
   ]
  },
  {
   "cell_type": "code",
   "execution_count": null,
   "id": "2503df33-24c6-462a-acd8-90a61ee9d4c8",
   "metadata": {
    "tags": []
   },
   "outputs": [],
   "source": [
    "from InsulaWorkflowClient import InsulaOpenIDConnect\n",
    "\n",
    "BASE_URL=\"https://insula.earth\"\n",
    "\n",
    "insulaAuth: InsulaOpenIDConnect = InsulaOpenIDConnect(\n",
    "        authorization_endpoint=\"https://identity.insula.earth/realms/eopaas/protocol/openid-connect/auth\",\n",
    "        token_endpoint=\"https://identity.insula.earth/realms/eopaas/protocol/openid-connect/token\",\n",
    "        redirect_uri=\"http://localhost:9207/auth\",\n",
    "        client_id=\"api-client\"\n",
    "    )\n",
    "insulaAuth.set_user_credentials(username=USERNAME, password=PASSWORD)\n",
    "\n",
    "bearer = insulaAuth.get_authorization_header()\n",
    "print(bearer)\n",
    "HEADERS={'Authorization': bearer }"
   ]
  },
  {
   "cell_type": "markdown",
   "id": "5b749532-ef81-4b6c-bd44-cd761d567a1b",
   "metadata": {
    "tags": []
   },
   "source": [
    "## Catalog Search\n",
    "We can query the `parameters` endpoint to get a list of all availiable parameters to set:"
   ]
  },
  {
   "cell_type": "code",
   "execution_count": null,
   "id": "74ad30a3-51a5-425b-a9cc-be6d4ae28750",
   "metadata": {},
   "outputs": [],
   "source": [
    "url=f'{BASE_URL}/secure/api/v2.0/search/parameters'\n",
    "run_request=requests.get(url,headers=HEADERS, verify=True)\n",
    "run_request_dict = json.loads(run_request.text)"
   ]
  },
  {
   "cell_type": "code",
   "execution_count": null,
   "id": "451a9b51-daf1-4236-a7e6-8613becc3196",
   "metadata": {},
   "outputs": [],
   "source": [
    "run_request_dict"
   ]
  },
  {
   "cell_type": "markdown",
   "id": "7c90ee23",
   "metadata": {},
   "source": [
    "Many of the sequent API usage share a similarity for what concerns the search. For example the page and the number of results to display are used in many other API calls. In this catalog search many other filters could be applied: catalog, mission, AOI, TOI, orbit number, etc."
   ]
  },
  {
   "cell_type": "code",
   "execution_count": null,
   "id": "692d63a1",
   "metadata": {},
   "outputs": [],
   "source": [
    "page=0\n",
    "resultsPerPage=20\n",
    "catalogue='SATELLITE'\n",
    "mission='sentinel3'\n",
    "aoi='POLYGON+((110.12588478529223+-6.885079244763438,+110.12588478529223+-7.29186930980306,+111.05481310696132+-7.29186930980306,+111.06289082671104+-6.472900901082527,+111.02519514358733+-6.402857492192213,+110.86094988721777+-6.394775588065212,+110.67247167702403+-6.451349019721208,+110.62131326460076+-6.664173077411836,+110.48130096205539+-6.739604353875493,+110.52976676699129+-6.7854019476178165,+110.41667982033255+-6.920100897825102,+110.29282275186166+-6.8958548771431385,+110.17973575384669+-6.804259792425478,+110.1204997757424+-6.882385002675806,+110.12588478529223+-6.885079244763438))'\n",
    "start='2021-04-01T00:00:00.000Z'\n",
    "end='2021-09-30T23:59:59.000Z'\n",
    "s3proclevel='2'\n",
    "orbitDirection='ascending'\n",
    "s3instrument='SLSTR'\n",
    "producttype='SL_2_LST___'\n",
    "\n",
    "url=f'{BASE_URL}/secure/api/v2.0/search?page={page}&resultsPerPage={resultsPerPage}&catalogue={catalogue}&mission={mission}&aoi={aoi}&productDateStart={start}&productDateEnd={end}&s3ProcessingLevel={s3proclevel}&orbitDirection={orbitDirection}&s3Instrument={s3instrument}&productType={producttype}'\n",
    "run_request=requests.get(url,headers=HEADERS, verify=True)\n",
    "run_request_dict = json.loads(run_request.text)"
   ]
  },
  {
   "cell_type": "code",
   "execution_count": null,
   "id": "709d40b2",
   "metadata": {},
   "outputs": [],
   "source": [
    "run_request_dict"
   ]
  },
  {
   "cell_type": "markdown",
   "id": "d20df3c1-4270-4d8d-93a7-abcf1c83466a",
   "metadata": {
    "tags": []
   },
   "source": [
    "Next are other simpler examples for querying the Reference Data and Output Products:"
   ]
  },
  {
   "cell_type": "code",
   "execution_count": null,
   "id": "a4a0f062-f29b-4def-9f90-4e503569d282",
   "metadata": {},
   "outputs": [],
   "source": [
    "catalogue='REF_DATA'\n",
    "collection='eopaas9ced0b003cf840b9a1138a8e6609cc73' #Phisat2-Sat2Map\n",
    "aoi='POLYGON+((-19.52667870858845+30.81101444071784,+24.67455049168501+30.81101444071784,+24.67455049168501+59.58309365984046,+-19.52667870858845+59.58309365984046,+-19.52667870858845+30.81101444071784))'\n",
    "\n",
    "\n",
    "url=f'{BASE_URL}/secure/api/v2.0/search?page=0&resultsPerPage=20&catalogue={catalogue}&refDataCollection={collection}&aoi={aoi}'\n",
    "run_request=requests.get(url,headers=HEADERS, verify=True)\n",
    "run_request_dict = json.loads(run_request.text)"
   ]
  },
  {
   "cell_type": "code",
   "execution_count": null,
   "id": "16398ec3-d68e-4428-90a6-eec36eb5f300",
   "metadata": {},
   "outputs": [],
   "source": [
    "run_request_dict"
   ]
  },
  {
   "cell_type": "code",
   "execution_count": null,
   "id": "c5ca61e1-311c-4f8e-bac1-e3db144f02cb",
   "metadata": {},
   "outputs": [],
   "source": [
    "catalogue='PLATFORM_PRODUCTS'\n",
    "collection='eopaasafe146198f5d473f981ae2b05d699261' #defaultOutput-21\n",
    "\n",
    "url=f'{BASE_URL}/secure/api/v2.0/search?page=0&resultsPerPage=20&catalogue={catalogue}&collection={collection}'\n",
    "run_request=requests.get(url,headers=HEADERS, verify=True)\n",
    "run_request_dict = json.loads(run_request.text)"
   ]
  },
  {
   "cell_type": "code",
   "execution_count": null,
   "id": "5e88d144-a0a2-4a28-a839-a031ee7b5d54",
   "metadata": {},
   "outputs": [],
   "source": [
    "run_request_dict"
   ]
  },
  {
   "cell_type": "markdown",
   "id": "316616f2-b597-4a9b-b381-97fb02ba3f03",
   "metadata": {
    "tags": []
   },
   "source": [
    "## Download API\n",
    "We will query again the Output Products but this time we're searching for a specific file: `LC_2017_Rice_Dry_Agri.zip`, feel free to change these parameters with other collections or products for further testing."
   ]
  },
  {
   "cell_type": "code",
   "execution_count": null,
   "id": "22987864-8b01-441e-a1da-c3048e8c8b21",
   "metadata": {},
   "outputs": [],
   "source": [
    "catalogue='PLATFORM_PRODUCTS'\n",
    "collection='eopaas5c1a14e8fd684fa69fb115887a1cfb00' #gda_agri_vector_layers\n",
    "product='LC_2017_Rice_Dry_Agri.zip'\n",
    "\n",
    "url=f'{BASE_URL}/secure/api/v2.0/search?page=0&resultsPerPage=20&catalogue={catalogue}&collection={collection}&identifier={product}'\n",
    "\n",
    "run_request=requests.get(url,headers=HEADERS, verify=True)\n",
    "run_request_dict = json.loads(run_request.text)"
   ]
  },
  {
   "cell_type": "code",
   "execution_count": null,
   "id": "a8801791-5fac-40f9-8056-231656dda3c6",
   "metadata": {},
   "outputs": [],
   "source": [
    "run_request_dict"
   ]
  },
  {
   "cell_type": "markdown",
   "id": "ec841eb0-242a-453e-a09a-751a0f303197",
   "metadata": {},
   "source": [
    "We searched for a specific filename so we should only have one result, we can access the links for this product inside this response. To use the download API simply call the download link as shown below."
   ]
  },
  {
   "cell_type": "code",
   "execution_count": null,
   "id": "2c13bbf7-e1d4-4956-b34b-e41a1b70d44a",
   "metadata": {},
   "outputs": [],
   "source": [
    "file=run_request_dict['features'][0]\n",
    "#https://insula.earth/secure/api/v2.0/search/products/platform/47730\n",
    "url=file['properties']['_links']['download']['href']\n",
    "\n",
    "r = requests.get(url, headers=HEADERS, stream=True)\n",
    "if r.status_code == 200:\n",
    "    with open('gda_rice.zip', 'wb') as f:\n",
    "        for chunk in r:\n",
    "            f.write(chunk)"
   ]
  },
  {
   "cell_type": "markdown",
   "id": "5e0db075-dfc3-4eda-babe-237161bf3c8a",
   "metadata": {
    "tags": []
   },
   "source": [
    "## WFS Visualization:\n",
    "We will use the same product of the download section and expand on that: in the same section we can access the links for WMS and WFS services for this file. With the `furl` library we can extract the value of the layer parameter that will be used in the following snippets:"
   ]
  },
  {
   "cell_type": "code",
   "execution_count": null,
   "id": "ff190b89-7d62-49c0-9eb4-f52bf3e67589",
   "metadata": {},
   "outputs": [],
   "source": [
    "from furl import furl\n",
    "\n",
    "wfs_url=file['properties']['_links']['wfs']['href']\n",
    "print(\"WFS: \"+wfs_url)\n",
    "\n",
    "wms_url=file['properties']['_links']['wms']['href']\n",
    "print(\"WMS: \"+wms_url)\n",
    "\n",
    "layer=furl(wms_url).args['layers']\n",
    "print(\"Layer: \"+layer)\n",
    "\n",
    "style=layer.replace(':','_')\n",
    "print(\"Style: \"+style)\n",
    "\n",
    "cql_filter=furl(wms_url).args['cql_filter']\n",
    "print(\"cql_filter: \"+cql_filter)"
   ]
  },
  {
   "cell_type": "markdown",
   "id": "0e8bf636-0b16-41e2-86c1-f236477662ec",
   "metadata": {},
   "source": [
    "To download and visualize a shapefile trough Insula's WFS interface we can use the GetFeature request.\n",
    "The only thing to specify is the name of the product, we could declare a `bbox` parameter to narrow the area of interest.\n",
    "The default format is GML, but we can switch to Shapefile or GeoJSON using the `outputFormat` parameter.\n",
    "All the formats are known to `geopandas`, the library used to read and visualize these objects."
   ]
  },
  {
   "cell_type": "code",
   "execution_count": null,
   "id": "7b891afc-da2e-437b-86f2-59c8fff54131",
   "metadata": {},
   "outputs": [],
   "source": [
    "url=\"https://geoserver.insula.earth/geoserver/wfs\"\n",
    "params = dict(\n",
    "    version=\"2.0.0\",\n",
    "    request=\"GetFeature\",\n",
    "    typeName=layer,\n",
    "    cql_filter=cql_filter,     # optional\n",
    "    #outputFormat=\"shape-zip\" or \"application/json\",\n",
    "    #cql_filter=cql_filter,    # optional\n",
    "    #srsName=\"CRS:84\"          # optional\n",
    "    #bbox=\"110.161869812,-7.454166667,111.824762701,-6.380393028\"    # optional\n",
    ")\n",
    "\n",
    "r = requests.get(url, headers=HEADERS, params=params, stream=True)"
   ]
  },
  {
   "cell_type": "code",
   "execution_count": null,
   "id": "d881f4d6-c865-4cda-b26c-8abc04130d6f",
   "metadata": {},
   "outputs": [],
   "source": [
    "import geopandas as gpd\n",
    "import matplotlib.pyplot as plt\n",
    "\n",
    "gdf = gpd.read_file(r.content)#.to_crs(\"epsg:4326\")\n",
    "print(gdf)\n",
    "\n",
    "gdf.plot(\n",
    "    column=\"Toponimi\",\n",
    "    legend=True\n",
    ")\n",
    "plt.show()\n",
    "\n",
    "#or\n",
    "\n",
    "gdf.explore(column='Toponimi')"
   ]
  },
  {
   "cell_type": "markdown",
   "id": "482b298c-f143-4d51-a186-4d9fdc5758ee",
   "metadata": {
    "tags": []
   },
   "source": [
    "## WMS Visualization:\n",
    "We can use WMS to download and visualize a raster file or a raster projection of a shapefile by using the `GetMap` request.\n",
    "Here we have more parameters to specify the name of the product in `layers` and optionally a style in the `styles` parameter.\n",
    "In the `format` parameter we can specify `image/geotiff` or `image/png`,`image/jpeg` if we dont need georeferencing.\n",
    "Declaring the aoi with a `bbox` parameter is mandatory, as the definition of the size of the output image (`width`,`height`).\n",
    "\n",
    "One thing to note is that the returned picture shall have exactly the \n",
    "specified width and height in pixels. In the case where the aspect ratio of the BBOX and the ratio width/height ar \n",
    "different, the WMS shall stretch the returned map so that the resulting pixels could themselves be rendered in t e\n",
    "aspect ratio of the BBOio.\n",
    "Map distortions will be introduced if the aspect ratio WIDTH/HEIGHT is not commensurate with X, Y and the  ixel\n",
    "ad maps."
   ]
  },
  {
   "cell_type": "code",
   "execution_count": null,
   "id": "f896fb91-ecad-43de-8b66-dce1dd4d03bf",
   "metadata": {},
   "outputs": [],
   "source": [
    "url=\"https://geoserver.insula.earth/geoserver/wms\"\n",
    "params = dict(\n",
    "    version=\"1.3.0\",\n",
    "    request=\"GetMap\",\n",
    "    format=\"image/geotiff\",   \n",
    "    layers=layer,\n",
    "    styles=style,         # Optional\n",
    "    width=\"1672\",\n",
    "    height=\"1080\",\n",
    "    bbox=\"110.161869812,-7.454166667,111.824762701,-6.380393028\",\n",
    "    transparent=\"TRUE\",   # Optional\n",
    "    crs=\"CRS:84\",         # Optional\n",
    "    cql_filter=cql_filter # Optional\n",
    ")\n",
    "\n",
    "r = requests.get(url, headers=HEADERS, params=params, stream=True)\n",
    "if r.status_code == 200:\n",
    "    with open('gda_rice.tiff', 'wb') as f:\n",
    "        for chunk in r:\n",
    "            f.write(chunk)"
   ]
  },
  {
   "cell_type": "code",
   "execution_count": null,
   "id": "23d950e6-ce8a-4f19-8e3d-af0f8458a44a",
   "metadata": {},
   "outputs": [],
   "source": [
    "import rasterio\n",
    "from rasterio.plot import show\n",
    "\n",
    "with rasterio.open('gda_rice.tiff') as img:\n",
    "    show(img)"
   ]
  }
 ],
 "metadata": {
  "kernelspec": {
   "display_name": "Python 3 (ipykernel)",
   "language": "python",
   "name": "python3"
  },
  "language_info": {
   "codemirror_mode": {
    "name": "ipython",
    "version": 3
   },
   "file_extension": ".py",
   "mimetype": "text/x-python",
   "name": "python",
   "nbconvert_exporter": "python",
   "pygments_lexer": "ipython3",
   "version": "3.11.6"
  }
 },
 "nbformat": 4,
 "nbformat_minor": 5
}
