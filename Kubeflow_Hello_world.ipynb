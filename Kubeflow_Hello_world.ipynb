{
 "cells": [
  {
   "cell_type": "markdown",
   "id": "071da941",
   "metadata": {},
   "source": [
    "# Example: simple pipeline that prints \"Hello world!\" and produces a .yaml file"
   ]
  },
  {
   "cell_type": "markdown",
   "id": "ab6864ae",
   "metadata": {},
   "source": [
    "#### Define experiment name and base image\n",
    "\n",
    "These images provide a common starting point for Kubeflow Notebook containers\n",
    "\n",
    "| Dockerfile       | Container Registry               | Notes                        |\n",
    "|------------------|----------------------------------|------------------------------|\n",
    "| [./base](https://github.com/kubeflow/kubeflow/tree/master/components/example-notebook-servers/base)           | [kubeflownotebookswg/base](https://hub.docker.com/r/kubeflownotebookswg/base)         | Common Base Image            |\n",
    "| [./codeserver](https://github.com/kubeflow/kubeflow/tree/master/components/example-notebook-servers/codeserver)     | [kubeflownotebookswg/codeserver](https://hub.docker.com/r/kubeflownotebookswg/codeserver)  | code-server (Visual Studio Code) |\n",
    "| [./jupyter](https://github.com/kubeflow/kubeflow/tree/master/components/example-notebook-servers/jupyter)       | [kubeflownotebookswg/jupyter](https://hub.docker.com/r/kubeflownotebookswg/jupyter)     | JupyterLab                   |\n",
    "| [./rstudio](https://github.com/kubeflow/kubeflow/tree/master/components/example-notebook-servers/rstudio)       | [kubeflownotebookswg/rstudio](https://hub.docker.com/r/kubeflownotebookswg/rstudio)     | RStudio                      |\n",
    "\n",
    "\n",
    "Kubeflow images extending the base images with common packages used in the real world can be found [here](https://www.kubeflow.org/docs/components/notebooks/container-images/#:~:text=Kubeflow%20provides%20a%20number%20of%20example%20container)."
   ]
  },
  {
   "cell_type": "code",
   "execution_count": 7,
   "id": "3c75a82c-3888-4126-8745-8425db9893c0",
   "metadata": {
    "tags": []
   },
   "outputs": [],
   "source": [
    "EXPERIMENT_NAME = 'TEST_HELLO'        # Name of the experiment in the UI\n",
    "BASE_IMAGE = 'kubeflownotebookswg/codeserver-python'"
   ]
  },
  {
   "cell_type": "markdown",
   "id": "c71904fb",
   "metadata": {},
   "source": [
    "#### Install necessary packages"
   ]
  },
  {
   "cell_type": "code",
   "execution_count": null,
   "id": "b346b97d",
   "metadata": {},
   "outputs": [],
   "source": [
    "!python3 -m pip install kfp"
   ]
  },
  {
   "cell_type": "markdown",
   "id": "5cf3b09e",
   "metadata": {},
   "source": [
    "#### Import all necessary Kubeflow packages"
   ]
  },
  {
   "cell_type": "code",
   "execution_count": 8,
   "id": "279f4e0b-dcf5-4f6d-bc91-d6b541ee4eb3",
   "metadata": {
    "tags": []
   },
   "outputs": [],
   "source": [
    "import kfp\n",
    "import kfp.dsl as dsl\n",
    "from kfp import compiler\n",
    "from kfp import components"
   ]
  },
  {
   "cell_type": "markdown",
   "id": "a1de4af6",
   "metadata": {},
   "source": [
    "#### Define components of the pipeline\n",
    "The easiest component is the [Lighweight Python Component](https://www.kubeflow.org/docs/components/pipelines/user-guides/components/lightweight-python-components/), which is built by decorating self-contained python functions with the [**@dsl.component**](https://kubeflow-pipelines.readthedocs.io/en/stable/source/dsl.html#kfp.dsl.component) decorator.\n",
    "\n",
    "Requirements of a decorated componenent:\n",
    "\n",
    "1.`Type annotations`: both the function inputs and outputs must have valid KFP [type annotations](https://www.kubeflow.org/docs/components/pipelines/user-guides/data-handling/data-types/) (parameters and artifacts)\n",
    "* [**Parameters**](https://www.kubeflow.org/docs/components/pipelines/user-guides/data-handling/parameters/) are useful to pass small amount of data between components and when the data created by the component does not represent a machine learning object such as a model, a dataset, or more complex data type. *Valid Parameter annotations include Python built-in int, float, str, bool, typing.Dict, typing.List*\n",
    "* [**Artifacts**](https://www.kubeflow.org/docs/components/pipelines/user-guides/data-handling/artifacts/) are used to pass complex data or ML objects (Model, Dataset)\n",
    "\n",
    "2.`Hermetic`: the python function can not reference any symbols or function defined outside of its body."
   ]
  },
  {
   "cell_type": "code",
   "execution_count": 9,
   "id": "b4edabf8-d5b6-448b-94a3-2f3d02c687da",
   "metadata": {
    "tags": []
   },
   "outputs": [],
   "source": [
    "@dsl.component(base_image=BASE_IMAGE) # The base_image can be extended also using the argument \"packages_to_install\". Ex: @dsl.component(base_image=BASE_IMAGE, packages_to_install=['numpy==1.21.6'])\n",
    "def print_hello(\n",
    "    text: str,\n",
    ") -> str:\n",
    "    \n",
    "    print(text)\n",
    "    return text"
   ]
  },
  {
   "cell_type": "markdown",
   "id": "2040c354",
   "metadata": {},
   "source": [
    "#### Create a pipeline\n",
    "A pipeline is a definition of a workflow that composes one or more components together. It is built using the [**@dsl.pipeline**](https://kubeflow-pipelines.readthedocs.io/en/stable/source/dsl.html#kfp.dsl.pipeline) decorator.\n",
    "\n",
    "At runtime, each component execution corresponds to a single container execution, which may create ML artifacts."
   ]
  },
  {
   "cell_type": "code",
   "execution_count": 10,
   "id": "50c757d2-eaa8-4315-9300-c85928fd038b",
   "metadata": {
    "tags": []
   },
   "outputs": [],
   "source": [
    "@dsl.pipeline\n",
    "def hello_pipeline(text: str = 'Hello world!') -> str:\n",
    "    hello_task = print_hello(text=text)\n",
    "    return hello_task.output"
   ]
  },
  {
   "cell_type": "markdown",
   "id": "5ccbb0bc",
   "metadata": {},
   "source": [
    "#### Compile and run the pipeline"
   ]
  },
  {
   "cell_type": "code",
   "execution_count": 11,
   "id": "aa743c9b",
   "metadata": {
    "tags": []
   },
   "outputs": [],
   "source": [
    "# Compile pipeline and create yaml file. This can be uploaded to Kubeflow Pipelines instance\n",
    "compiler.Compiler().compile(hello_pipeline, package_path='hello_pipeline.yaml')"
   ]
  },
  {
   "cell_type": "markdown",
   "id": "3f0506ef-cd9f-41ff-b9fb-326834e01fd8",
   "metadata": {},
   "source": [
    "#### Run the pipeline in Kubeflow Dashboard"
   ]
  },
  {
   "cell_type": "markdown",
   "id": "9decfe10-1e96-4ff0-a81d-55ae0b20523e",
   "metadata": {},
   "source": [
    "Follow the instructions at this [link](https://www.kubeflow.org/docs/components/pipelines/user-guides/core-functions/run-a-pipeline/) to run the .yaml file in Kubeflow Dashboard"
   ]
  }
 ],
 "metadata": {
  "kernelspec": {
   "display_name": "Python 3 (ipykernel)",
   "language": "python",
   "name": "python3"
  },
  "language_info": {
   "codemirror_mode": {
    "name": "ipython",
    "version": 3
   },
   "file_extension": ".py",
   "mimetype": "text/x-python",
   "name": "python",
   "nbconvert_exporter": "python",
   "pygments_lexer": "ipython3",
   "version": "3.11.6"
  }
 },
 "nbformat": 4,
 "nbformat_minor": 5
}
